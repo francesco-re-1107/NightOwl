{
 "cells": [
  {
   "cell_type": "code",
   "execution_count": 9,
   "metadata": {},
   "outputs": [
    {
     "name": "stderr",
     "output_type": "stream",
     "text": [
      "0it [00:00, ?it/s][NULL @ 0x1030a6800] sps_id 32 out of range\n",
      "1it [00:03,  3.14s/it]\n"
     ]
    }
   ],
   "source": [
    "import cv2\n",
    "from pathlib import Path\n",
    "from tqdm import tqdm\n",
    "\n",
    "count = 0\n",
    "id = 0 \n",
    "path = Path(\"...\")\n",
    "frames_path = path / \"frames\"\n",
    "frames_path.mkdir(exist_ok=True)\n",
    "\n",
    "for p in tqdm(path.glob(\"*.bvr\")):\n",
    "    vidcap = cv2.VideoCapture(str(p))\n",
    "    success, image = vidcap.read()\n",
    "\n",
    "    while success:\n",
    "        if count % 10 == 0:\n",
    "            cv2.imwrite(str(frames_path / f\"{id}.jpg\"), image)\n",
    "            id += 1\n",
    "        \n",
    "        success,image = vidcap.read()\n",
    "        count += 1"
   ]
  }
 ],
 "metadata": {
  "kernelspec": {
   "display_name": "base",
   "language": "python",
   "name": "python3"
  },
  "language_info": {
   "codemirror_mode": {
    "name": "ipython",
    "version": 3
   },
   "file_extension": ".py",
   "mimetype": "text/x-python",
   "name": "python",
   "nbconvert_exporter": "python",
   "pygments_lexer": "ipython3",
   "version": "3.9.13"
  },
  "orig_nbformat": 4,
  "vscode": {
   "interpreter": {
    "hash": "40d3a090f54c6569ab1632332b64b2c03c39dcf918b08424e98f38b5ae0af88f"
   }
  }
 },
 "nbformat": 4,
 "nbformat_minor": 2
}
